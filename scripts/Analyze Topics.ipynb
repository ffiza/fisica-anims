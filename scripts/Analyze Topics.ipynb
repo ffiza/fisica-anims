{
 "cells": [
  {
   "attachments": {},
   "cell_type": "markdown",
   "metadata": {},
   "source": [
    "# Análisis de temas evaluados"
   ]
  },
  {
   "cell_type": "code",
   "execution_count": 5,
   "metadata": {},
   "outputs": [],
   "source": [
    "import pandas as pd\n",
    "import numpy as np\n",
    "import plotly.express as px\n",
    "import plotly.graph_objects as go"
   ]
  },
  {
   "cell_type": "code",
   "execution_count": 2,
   "metadata": {},
   "outputs": [],
   "source": [
    "from df_config import set_types"
   ]
  },
  {
   "cell_type": "code",
   "execution_count": 3,
   "metadata": {},
   "outputs": [
    {
     "data": {
      "text/html": [
       "<div>\n",
       "<style scoped>\n",
       "    .dataframe tbody tr th:only-of-type {\n",
       "        vertical-align: middle;\n",
       "    }\n",
       "\n",
       "    .dataframe tbody tr th {\n",
       "        vertical-align: top;\n",
       "    }\n",
       "\n",
       "    .dataframe thead th {\n",
       "        text-align: right;\n",
       "    }\n",
       "</style>\n",
       "<table border=\"1\" class=\"dataframe\">\n",
       "  <thead>\n",
       "    <tr style=\"text-align: right;\">\n",
       "      <th></th>\n",
       "      <th>anio</th>\n",
       "      <th>cuatrimestre</th>\n",
       "      <th>nota_p1</th>\n",
       "      <th>p1_rozamiento</th>\n",
       "      <th>p1_oscilaciones</th>\n",
       "      <th>p1_sni</th>\n",
       "      <th>concepto_p1</th>\n",
       "      <th>nota_p2</th>\n",
       "      <th>nota_r1</th>\n",
       "      <th>nota_r2</th>\n",
       "      <th>nota_final</th>\n",
       "      <th>hash</th>\n",
       "    </tr>\n",
       "  </thead>\n",
       "  <tbody>\n",
       "    <tr>\n",
       "      <th>count</th>\n",
       "      <td>265.0</td>\n",
       "      <td>265.0</td>\n",
       "      <td>265.000000</td>\n",
       "      <td>265.000000</td>\n",
       "      <td>265.000000</td>\n",
       "      <td>265.000000</td>\n",
       "      <td>265</td>\n",
       "      <td>0.0</td>\n",
       "      <td>0.0</td>\n",
       "      <td>0.0</td>\n",
       "      <td>0.0</td>\n",
       "      <td>265</td>\n",
       "    </tr>\n",
       "    <tr>\n",
       "      <th>unique</th>\n",
       "      <td>NaN</td>\n",
       "      <td>NaN</td>\n",
       "      <td>NaN</td>\n",
       "      <td>NaN</td>\n",
       "      <td>NaN</td>\n",
       "      <td>NaN</td>\n",
       "      <td>4</td>\n",
       "      <td>NaN</td>\n",
       "      <td>NaN</td>\n",
       "      <td>NaN</td>\n",
       "      <td>NaN</td>\n",
       "      <td>265</td>\n",
       "    </tr>\n",
       "    <tr>\n",
       "      <th>top</th>\n",
       "      <td>NaN</td>\n",
       "      <td>NaN</td>\n",
       "      <td>NaN</td>\n",
       "      <td>NaN</td>\n",
       "      <td>NaN</td>\n",
       "      <td>NaN</td>\n",
       "      <td>I</td>\n",
       "      <td>NaN</td>\n",
       "      <td>NaN</td>\n",
       "      <td>NaN</td>\n",
       "      <td>NaN</td>\n",
       "      <td>a63b893b84ba71ed6f229c01a5d8e49c</td>\n",
       "    </tr>\n",
       "    <tr>\n",
       "      <th>freq</th>\n",
       "      <td>NaN</td>\n",
       "      <td>NaN</td>\n",
       "      <td>NaN</td>\n",
       "      <td>NaN</td>\n",
       "      <td>NaN</td>\n",
       "      <td>NaN</td>\n",
       "      <td>84</td>\n",
       "      <td>NaN</td>\n",
       "      <td>NaN</td>\n",
       "      <td>NaN</td>\n",
       "      <td>NaN</td>\n",
       "      <td>1</td>\n",
       "    </tr>\n",
       "    <tr>\n",
       "      <th>mean</th>\n",
       "      <td>2023.0</td>\n",
       "      <td>1.0</td>\n",
       "      <td>3.435547</td>\n",
       "      <td>4.265625</td>\n",
       "      <td>3.027344</td>\n",
       "      <td>3.095703</td>\n",
       "      <td>NaN</td>\n",
       "      <td>NaN</td>\n",
       "      <td>NaN</td>\n",
       "      <td>NaN</td>\n",
       "      <td>NaN</td>\n",
       "      <td>NaN</td>\n",
       "    </tr>\n",
       "    <tr>\n",
       "      <th>std</th>\n",
       "      <td>0.0</td>\n",
       "      <td>0.0</td>\n",
       "      <td>3.099609</td>\n",
       "      <td>3.564453</td>\n",
       "      <td>3.136719</td>\n",
       "      <td>3.537109</td>\n",
       "      <td>NaN</td>\n",
       "      <td>NaN</td>\n",
       "      <td>NaN</td>\n",
       "      <td>NaN</td>\n",
       "      <td>NaN</td>\n",
       "      <td>NaN</td>\n",
       "    </tr>\n",
       "    <tr>\n",
       "      <th>min</th>\n",
       "      <td>2023.0</td>\n",
       "      <td>1.0</td>\n",
       "      <td>0.000000</td>\n",
       "      <td>0.000000</td>\n",
       "      <td>0.000000</td>\n",
       "      <td>0.000000</td>\n",
       "      <td>NaN</td>\n",
       "      <td>NaN</td>\n",
       "      <td>NaN</td>\n",
       "      <td>NaN</td>\n",
       "      <td>NaN</td>\n",
       "      <td>NaN</td>\n",
       "    </tr>\n",
       "    <tr>\n",
       "      <th>25%</th>\n",
       "      <td>2023.0</td>\n",
       "      <td>1.0</td>\n",
       "      <td>0.000000</td>\n",
       "      <td>0.000000</td>\n",
       "      <td>0.000000</td>\n",
       "      <td>0.000000</td>\n",
       "      <td>NaN</td>\n",
       "      <td>NaN</td>\n",
       "      <td>NaN</td>\n",
       "      <td>NaN</td>\n",
       "      <td>NaN</td>\n",
       "      <td>NaN</td>\n",
       "    </tr>\n",
       "    <tr>\n",
       "      <th>50%</th>\n",
       "      <td>2023.0</td>\n",
       "      <td>1.0</td>\n",
       "      <td>3.000000</td>\n",
       "      <td>4.800781</td>\n",
       "      <td>2.000000</td>\n",
       "      <td>1.000000</td>\n",
       "      <td>NaN</td>\n",
       "      <td>NaN</td>\n",
       "      <td>NaN</td>\n",
       "      <td>NaN</td>\n",
       "      <td>NaN</td>\n",
       "      <td>NaN</td>\n",
       "    </tr>\n",
       "    <tr>\n",
       "      <th>75%</th>\n",
       "      <td>2023.0</td>\n",
       "      <td>1.0</td>\n",
       "      <td>6.300781</td>\n",
       "      <td>7.500000</td>\n",
       "      <td>6.000000</td>\n",
       "      <td>6.500000</td>\n",
       "      <td>NaN</td>\n",
       "      <td>NaN</td>\n",
       "      <td>NaN</td>\n",
       "      <td>NaN</td>\n",
       "      <td>NaN</td>\n",
       "      <td>NaN</td>\n",
       "    </tr>\n",
       "    <tr>\n",
       "      <th>max</th>\n",
       "      <td>2023.0</td>\n",
       "      <td>1.0</td>\n",
       "      <td>9.500000</td>\n",
       "      <td>10.000000</td>\n",
       "      <td>10.000000</td>\n",
       "      <td>10.000000</td>\n",
       "      <td>NaN</td>\n",
       "      <td>NaN</td>\n",
       "      <td>NaN</td>\n",
       "      <td>NaN</td>\n",
       "      <td>NaN</td>\n",
       "      <td>NaN</td>\n",
       "    </tr>\n",
       "  </tbody>\n",
       "</table>\n",
       "</div>"
      ],
      "text/plain": [
       "          anio  cuatrimestre     nota_p1  p1_rozamiento  p1_oscilaciones  \\\n",
       "count    265.0         265.0  265.000000     265.000000       265.000000   \n",
       "unique     NaN           NaN         NaN            NaN              NaN   \n",
       "top        NaN           NaN         NaN            NaN              NaN   \n",
       "freq       NaN           NaN         NaN            NaN              NaN   \n",
       "mean    2023.0           1.0    3.435547       4.265625         3.027344   \n",
       "std        0.0           0.0    3.099609       3.564453         3.136719   \n",
       "min     2023.0           1.0    0.000000       0.000000         0.000000   \n",
       "25%     2023.0           1.0    0.000000       0.000000         0.000000   \n",
       "50%     2023.0           1.0    3.000000       4.800781         2.000000   \n",
       "75%     2023.0           1.0    6.300781       7.500000         6.000000   \n",
       "max     2023.0           1.0    9.500000      10.000000        10.000000   \n",
       "\n",
       "            p1_sni concepto_p1  nota_p2  nota_r1  nota_r2  nota_final  \\\n",
       "count   265.000000         265      0.0      0.0      0.0         0.0   \n",
       "unique         NaN           4      NaN      NaN      NaN         NaN   \n",
       "top            NaN           I      NaN      NaN      NaN         NaN   \n",
       "freq           NaN          84      NaN      NaN      NaN         NaN   \n",
       "mean      3.095703         NaN      NaN      NaN      NaN         NaN   \n",
       "std       3.537109         NaN      NaN      NaN      NaN         NaN   \n",
       "min       0.000000         NaN      NaN      NaN      NaN         NaN   \n",
       "25%       0.000000         NaN      NaN      NaN      NaN         NaN   \n",
       "50%       1.000000         NaN      NaN      NaN      NaN         NaN   \n",
       "75%       6.500000         NaN      NaN      NaN      NaN         NaN   \n",
       "max      10.000000         NaN      NaN      NaN      NaN         NaN   \n",
       "\n",
       "                                    hash  \n",
       "count                                265  \n",
       "unique                               265  \n",
       "top     a63b893b84ba71ed6f229c01a5d8e49c  \n",
       "freq                                   1  \n",
       "mean                                 NaN  \n",
       "std                                  NaN  \n",
       "min                                  NaN  \n",
       "25%                                  NaN  \n",
       "50%                                  NaN  \n",
       "75%                                  NaN  \n",
       "max                                  NaN  "
      ]
     },
     "execution_count": 3,
     "metadata": {},
     "output_type": "execute_result"
    }
   ],
   "source": [
    "df = pd.read_csv(\"../data/student_data.csv\")\n",
    "set_types(df)\n",
    "df.describe(include=\"all\")"
   ]
  },
  {
   "attachments": {},
   "cell_type": "markdown",
   "metadata": {},
   "source": [
    "## Resultados del primer parcial"
   ]
  },
  {
   "cell_type": "code",
   "execution_count": 21,
   "metadata": {},
   "outputs": [
    {
     "data": {
      "application/vnd.plotly.v1+json": {
       "config": {
        "plotlyServerURL": "https://plot.ly"
       },
       "data": [
        {
         "boxpoints": "all",
         "name": "Rozamiento",
         "notched": true,
         "type": "box",
         "y": [
          6.30078125,
          2.5,
          0,
          2.5,
          0,
          0,
          4.80078125,
          2.30078125,
          8,
          5,
          6,
          8.296875,
          5.30078125,
          6.80078125,
          4,
          9.296875,
          9.5,
          7.5,
          8.796875,
          1.5,
          2.5,
          0.7998046875,
          9.296875,
          3.80078125,
          5.5,
          6.5,
          0,
          8.796875,
          2.5,
          6.30078125,
          7.5,
          9.296875,
          9,
          6.30078125,
          6.80078125,
          10,
          6,
          6.80078125,
          8.796875,
          6.5,
          6,
          4.5,
          1.7998046875,
          8.296875,
          8.5,
          8.296875,
          5.30078125,
          1.2998046875,
          9.296875,
          1,
          7.80078125,
          6.30078125,
          6.80078125,
          9.796875,
          7.30078125,
          5.30078125,
          6,
          7.5,
          8.796875,
          5.80078125,
          3.5,
          5,
          8.796875,
          4.30078125,
          0,
          2.5,
          7.80078125,
          8,
          4.30078125,
          6.80078125,
          9,
          5.5,
          9.796875,
          6.30078125,
          4.80078125,
          9.296875,
          5.5,
          1.5,
          7.30078125,
          1.7998046875,
          6.5,
          9.5,
          4.30078125,
          8.796875,
          7.5,
          1.7998046875,
          2.5,
          9.796875,
          3,
          10,
          4.80078125,
          5.5,
          8,
          5.5,
          10,
          4.30078125,
          8.796875,
          5,
          5,
          7.80078125,
          5,
          9.296875,
          9.296875,
          5.30078125,
          4.5,
          9.796875,
          9.203125,
          7.30078125,
          8.796875,
          7.80078125,
          0,
          9.296875,
          7,
          5.80078125,
          8.296875,
          1.5,
          2.5,
          2.30078125,
          8,
          6,
          6.80078125,
          9.296875,
          1.2998046875,
          5.30078125,
          4.5,
          9,
          4.5,
          10,
          9.296875,
          9,
          2.5,
          2,
          7.30078125,
          9,
          9.296875,
          7.5,
          6,
          7.80078125,
          5.30078125,
          5,
          6.5,
          8.796875,
          9.5,
          6,
          6.30078125,
          4.80078125,
          2.30078125,
          8.5,
          8.5,
          0,
          2.5,
          3.80078125,
          6.30078125,
          6.30078125,
          6.80078125,
          5,
          1.7998046875,
          4.80078125,
          8,
          6.80078125,
          7.5,
          4.80078125,
          6.30078125,
          5.80078125,
          6.80078125,
          9,
          9,
          8.796875,
          7.5,
          0,
          3.5,
          3.5,
          8,
          5.5,
          2.5,
          8.5,
          3,
          6.80078125,
          5.30078125,
          8.5,
          7.30078125,
          6.80078125,
          9.296875,
          9.5,
          4.5,
          1.2998046875,
          1.2998046875,
          6.80078125,
          4
         ]
        },
        {
         "boxpoints": "all",
         "name": "Oscilaciones",
         "notched": true,
         "type": "box",
         "y": [
          3,
          0,
          0,
          7,
          2,
          4,
          6.5,
          0.5,
          0,
          0,
          6,
          8,
          5.5,
          6,
          2,
          8,
          4.5,
          5.5,
          8.5,
          0,
          3,
          5,
          3.5,
          7.5,
          3,
          5,
          0,
          6,
          2,
          0,
          8.5,
          6,
          7,
          3.5,
          9,
          5.5,
          5.5,
          6.5,
          8.5,
          6,
          2.5,
          0,
          0,
          5.5,
          8,
          2.5,
          9.5,
          1.5,
          6,
          1,
          4.5,
          6,
          3.5,
          5.5,
          3.5,
          0.5,
          8,
          6.5,
          9.5,
          3.5,
          2.5,
          4.5,
          0,
          9.5,
          0,
          6.5,
          3.5,
          5,
          4,
          6.5,
          5,
          3,
          9,
          7.5,
          3.30078125,
          7,
          4.5,
          2,
          7.5,
          1,
          0,
          6.5,
          0,
          8.5,
          2.5,
          0,
          6,
          10,
          0,
          6,
          2.5,
          7,
          3.5,
          8,
          9,
          1.5,
          8,
          0.5,
          3,
          3,
          5,
          3.5,
          7.5,
          5.5,
          4.5,
          7,
          1,
          9.5,
          5,
          2.5,
          0,
          7.80078125,
          0,
          1.5,
          7,
          0.5,
          0,
          1,
          6.80078125,
          4,
          1.5,
          8,
          1.5,
          4.5,
          1,
          6.5,
          4.5,
          4,
          9.5,
          7,
          4,
          0,
          8.5,
          2.5,
          6,
          6.5,
          0,
          4.5,
          0,
          10,
          1,
          5.5,
          5,
          6,
          4,
          0,
          2,
          5,
          8,
          0,
          1,
          0.5,
          2.5,
          6.5,
          5.5,
          3,
          2.5,
          7.30078125,
          1.5,
          8.5,
          2,
          6,
          9.5,
          5.5,
          6.5,
          7,
          7,
          3.30078125,
          9,
          1,
          0,
          0,
          6.5,
          7,
          1,
          5,
          0,
          4,
          1,
          2,
          4,
          7,
          3.80078125,
          4.30078125,
          6.5,
          2,
          2.5,
          1.5,
          0
         ]
        },
        {
         "boxpoints": "all",
         "name": "SNI",
         "notched": true,
         "type": "box",
         "y": [
          9,
          0,
          0,
          5.80078125,
          0,
          8,
          9.5,
          0,
          0,
          1,
          8,
          9,
          6,
          8.5,
          0,
          4,
          7.5,
          6.5,
          10,
          0.300048828125,
          4,
          0,
          6,
          4.80078125,
          4.5,
          7,
          0,
          2,
          6.80078125,
          0,
          8,
          3,
          10,
          8,
          8.5,
          3,
          3.30078125,
          4.80078125,
          5.80078125,
          7.30078125,
          6.80078125,
          0,
          0,
          5,
          2,
          0.300048828125,
          8,
          1,
          7,
          0,
          5.30078125,
          4,
          8.5,
          3,
          6.5,
          0,
          8,
          2,
          9.796875,
          4.5,
          0.7998046875,
          4,
          1,
          6,
          0,
          8.296875,
          5.30078125,
          4.80078125,
          1,
          8,
          8,
          0,
          7,
          9,
          9,
          7,
          0,
          4,
          8,
          1,
          0,
          7.69921875,
          0,
          9.5,
          5,
          0.5,
          7,
          1,
          0,
          8,
          0,
          10,
          4.1015625,
          9,
          8.5,
          1.2998046875,
          7.5,
          0.300048828125,
          0.5,
          7,
          6.80078125,
          6,
          4,
          8.5,
          0,
          6.5,
          0,
          8,
          10,
          3.30078125,
          0,
          7,
          0,
          0,
          9,
          0,
          0,
          0,
          9,
          4.5,
          7,
          8.5,
          4,
          5,
          7,
          4,
          2.80078125,
          5,
          9.796875,
          0,
          4.5,
          0,
          8.796875,
          7.5,
          10,
          10,
          0,
          4,
          1.7998046875,
          1,
          0,
          1,
          3,
          7,
          3.30078125,
          0,
          1,
          4,
          7,
          0,
          0,
          1,
          2,
          9.5,
          4,
          1,
          0,
          6,
          1,
          7,
          4,
          5,
          9.296875,
          3,
          6,
          7,
          9,
          6,
          9.296875,
          0,
          0,
          0,
          9.5,
          6,
          4.5,
          0,
          0,
          6,
          0,
          8.5,
          1,
          5,
          10,
          8,
          8,
          0.7998046875,
          1,
          2,
          0
         ]
        }
       ],
       "layout": {
        "template": {
         "data": {
          "bar": [
           {
            "error_x": {
             "color": "#2a3f5f"
            },
            "error_y": {
             "color": "#2a3f5f"
            },
            "marker": {
             "line": {
              "color": "#E5ECF6",
              "width": 0.5
             },
             "pattern": {
              "fillmode": "overlay",
              "size": 10,
              "solidity": 0.2
             }
            },
            "type": "bar"
           }
          ],
          "barpolar": [
           {
            "marker": {
             "line": {
              "color": "#E5ECF6",
              "width": 0.5
             },
             "pattern": {
              "fillmode": "overlay",
              "size": 10,
              "solidity": 0.2
             }
            },
            "type": "barpolar"
           }
          ],
          "carpet": [
           {
            "aaxis": {
             "endlinecolor": "#2a3f5f",
             "gridcolor": "white",
             "linecolor": "white",
             "minorgridcolor": "white",
             "startlinecolor": "#2a3f5f"
            },
            "baxis": {
             "endlinecolor": "#2a3f5f",
             "gridcolor": "white",
             "linecolor": "white",
             "minorgridcolor": "white",
             "startlinecolor": "#2a3f5f"
            },
            "type": "carpet"
           }
          ],
          "choropleth": [
           {
            "colorbar": {
             "outlinewidth": 0,
             "ticks": ""
            },
            "type": "choropleth"
           }
          ],
          "contour": [
           {
            "colorbar": {
             "outlinewidth": 0,
             "ticks": ""
            },
            "colorscale": [
             [
              0,
              "#0d0887"
             ],
             [
              0.1111111111111111,
              "#46039f"
             ],
             [
              0.2222222222222222,
              "#7201a8"
             ],
             [
              0.3333333333333333,
              "#9c179e"
             ],
             [
              0.4444444444444444,
              "#bd3786"
             ],
             [
              0.5555555555555556,
              "#d8576b"
             ],
             [
              0.6666666666666666,
              "#ed7953"
             ],
             [
              0.7777777777777778,
              "#fb9f3a"
             ],
             [
              0.8888888888888888,
              "#fdca26"
             ],
             [
              1,
              "#f0f921"
             ]
            ],
            "type": "contour"
           }
          ],
          "contourcarpet": [
           {
            "colorbar": {
             "outlinewidth": 0,
             "ticks": ""
            },
            "type": "contourcarpet"
           }
          ],
          "heatmap": [
           {
            "colorbar": {
             "outlinewidth": 0,
             "ticks": ""
            },
            "colorscale": [
             [
              0,
              "#0d0887"
             ],
             [
              0.1111111111111111,
              "#46039f"
             ],
             [
              0.2222222222222222,
              "#7201a8"
             ],
             [
              0.3333333333333333,
              "#9c179e"
             ],
             [
              0.4444444444444444,
              "#bd3786"
             ],
             [
              0.5555555555555556,
              "#d8576b"
             ],
             [
              0.6666666666666666,
              "#ed7953"
             ],
             [
              0.7777777777777778,
              "#fb9f3a"
             ],
             [
              0.8888888888888888,
              "#fdca26"
             ],
             [
              1,
              "#f0f921"
             ]
            ],
            "type": "heatmap"
           }
          ],
          "heatmapgl": [
           {
            "colorbar": {
             "outlinewidth": 0,
             "ticks": ""
            },
            "colorscale": [
             [
              0,
              "#0d0887"
             ],
             [
              0.1111111111111111,
              "#46039f"
             ],
             [
              0.2222222222222222,
              "#7201a8"
             ],
             [
              0.3333333333333333,
              "#9c179e"
             ],
             [
              0.4444444444444444,
              "#bd3786"
             ],
             [
              0.5555555555555556,
              "#d8576b"
             ],
             [
              0.6666666666666666,
              "#ed7953"
             ],
             [
              0.7777777777777778,
              "#fb9f3a"
             ],
             [
              0.8888888888888888,
              "#fdca26"
             ],
             [
              1,
              "#f0f921"
             ]
            ],
            "type": "heatmapgl"
           }
          ],
          "histogram": [
           {
            "marker": {
             "pattern": {
              "fillmode": "overlay",
              "size": 10,
              "solidity": 0.2
             }
            },
            "type": "histogram"
           }
          ],
          "histogram2d": [
           {
            "colorbar": {
             "outlinewidth": 0,
             "ticks": ""
            },
            "colorscale": [
             [
              0,
              "#0d0887"
             ],
             [
              0.1111111111111111,
              "#46039f"
             ],
             [
              0.2222222222222222,
              "#7201a8"
             ],
             [
              0.3333333333333333,
              "#9c179e"
             ],
             [
              0.4444444444444444,
              "#bd3786"
             ],
             [
              0.5555555555555556,
              "#d8576b"
             ],
             [
              0.6666666666666666,
              "#ed7953"
             ],
             [
              0.7777777777777778,
              "#fb9f3a"
             ],
             [
              0.8888888888888888,
              "#fdca26"
             ],
             [
              1,
              "#f0f921"
             ]
            ],
            "type": "histogram2d"
           }
          ],
          "histogram2dcontour": [
           {
            "colorbar": {
             "outlinewidth": 0,
             "ticks": ""
            },
            "colorscale": [
             [
              0,
              "#0d0887"
             ],
             [
              0.1111111111111111,
              "#46039f"
             ],
             [
              0.2222222222222222,
              "#7201a8"
             ],
             [
              0.3333333333333333,
              "#9c179e"
             ],
             [
              0.4444444444444444,
              "#bd3786"
             ],
             [
              0.5555555555555556,
              "#d8576b"
             ],
             [
              0.6666666666666666,
              "#ed7953"
             ],
             [
              0.7777777777777778,
              "#fb9f3a"
             ],
             [
              0.8888888888888888,
              "#fdca26"
             ],
             [
              1,
              "#f0f921"
             ]
            ],
            "type": "histogram2dcontour"
           }
          ],
          "mesh3d": [
           {
            "colorbar": {
             "outlinewidth": 0,
             "ticks": ""
            },
            "type": "mesh3d"
           }
          ],
          "parcoords": [
           {
            "line": {
             "colorbar": {
              "outlinewidth": 0,
              "ticks": ""
             }
            },
            "type": "parcoords"
           }
          ],
          "pie": [
           {
            "automargin": true,
            "type": "pie"
           }
          ],
          "scatter": [
           {
            "fillpattern": {
             "fillmode": "overlay",
             "size": 10,
             "solidity": 0.2
            },
            "type": "scatter"
           }
          ],
          "scatter3d": [
           {
            "line": {
             "colorbar": {
              "outlinewidth": 0,
              "ticks": ""
             }
            },
            "marker": {
             "colorbar": {
              "outlinewidth": 0,
              "ticks": ""
             }
            },
            "type": "scatter3d"
           }
          ],
          "scattercarpet": [
           {
            "marker": {
             "colorbar": {
              "outlinewidth": 0,
              "ticks": ""
             }
            },
            "type": "scattercarpet"
           }
          ],
          "scattergeo": [
           {
            "marker": {
             "colorbar": {
              "outlinewidth": 0,
              "ticks": ""
             }
            },
            "type": "scattergeo"
           }
          ],
          "scattergl": [
           {
            "marker": {
             "colorbar": {
              "outlinewidth": 0,
              "ticks": ""
             }
            },
            "type": "scattergl"
           }
          ],
          "scattermapbox": [
           {
            "marker": {
             "colorbar": {
              "outlinewidth": 0,
              "ticks": ""
             }
            },
            "type": "scattermapbox"
           }
          ],
          "scatterpolar": [
           {
            "marker": {
             "colorbar": {
              "outlinewidth": 0,
              "ticks": ""
             }
            },
            "type": "scatterpolar"
           }
          ],
          "scatterpolargl": [
           {
            "marker": {
             "colorbar": {
              "outlinewidth": 0,
              "ticks": ""
             }
            },
            "type": "scatterpolargl"
           }
          ],
          "scatterternary": [
           {
            "marker": {
             "colorbar": {
              "outlinewidth": 0,
              "ticks": ""
             }
            },
            "type": "scatterternary"
           }
          ],
          "surface": [
           {
            "colorbar": {
             "outlinewidth": 0,
             "ticks": ""
            },
            "colorscale": [
             [
              0,
              "#0d0887"
             ],
             [
              0.1111111111111111,
              "#46039f"
             ],
             [
              0.2222222222222222,
              "#7201a8"
             ],
             [
              0.3333333333333333,
              "#9c179e"
             ],
             [
              0.4444444444444444,
              "#bd3786"
             ],
             [
              0.5555555555555556,
              "#d8576b"
             ],
             [
              0.6666666666666666,
              "#ed7953"
             ],
             [
              0.7777777777777778,
              "#fb9f3a"
             ],
             [
              0.8888888888888888,
              "#fdca26"
             ],
             [
              1,
              "#f0f921"
             ]
            ],
            "type": "surface"
           }
          ],
          "table": [
           {
            "cells": {
             "fill": {
              "color": "#EBF0F8"
             },
             "line": {
              "color": "white"
             }
            },
            "header": {
             "fill": {
              "color": "#C8D4E3"
             },
             "line": {
              "color": "white"
             }
            },
            "type": "table"
           }
          ]
         },
         "layout": {
          "annotationdefaults": {
           "arrowcolor": "#2a3f5f",
           "arrowhead": 0,
           "arrowwidth": 1
          },
          "autotypenumbers": "strict",
          "coloraxis": {
           "colorbar": {
            "outlinewidth": 0,
            "ticks": ""
           }
          },
          "colorscale": {
           "diverging": [
            [
             0,
             "#8e0152"
            ],
            [
             0.1,
             "#c51b7d"
            ],
            [
             0.2,
             "#de77ae"
            ],
            [
             0.3,
             "#f1b6da"
            ],
            [
             0.4,
             "#fde0ef"
            ],
            [
             0.5,
             "#f7f7f7"
            ],
            [
             0.6,
             "#e6f5d0"
            ],
            [
             0.7,
             "#b8e186"
            ],
            [
             0.8,
             "#7fbc41"
            ],
            [
             0.9,
             "#4d9221"
            ],
            [
             1,
             "#276419"
            ]
           ],
           "sequential": [
            [
             0,
             "#0d0887"
            ],
            [
             0.1111111111111111,
             "#46039f"
            ],
            [
             0.2222222222222222,
             "#7201a8"
            ],
            [
             0.3333333333333333,
             "#9c179e"
            ],
            [
             0.4444444444444444,
             "#bd3786"
            ],
            [
             0.5555555555555556,
             "#d8576b"
            ],
            [
             0.6666666666666666,
             "#ed7953"
            ],
            [
             0.7777777777777778,
             "#fb9f3a"
            ],
            [
             0.8888888888888888,
             "#fdca26"
            ],
            [
             1,
             "#f0f921"
            ]
           ],
           "sequentialminus": [
            [
             0,
             "#0d0887"
            ],
            [
             0.1111111111111111,
             "#46039f"
            ],
            [
             0.2222222222222222,
             "#7201a8"
            ],
            [
             0.3333333333333333,
             "#9c179e"
            ],
            [
             0.4444444444444444,
             "#bd3786"
            ],
            [
             0.5555555555555556,
             "#d8576b"
            ],
            [
             0.6666666666666666,
             "#ed7953"
            ],
            [
             0.7777777777777778,
             "#fb9f3a"
            ],
            [
             0.8888888888888888,
             "#fdca26"
            ],
            [
             1,
             "#f0f921"
            ]
           ]
          },
          "colorway": [
           "#636efa",
           "#EF553B",
           "#00cc96",
           "#ab63fa",
           "#FFA15A",
           "#19d3f3",
           "#FF6692",
           "#B6E880",
           "#FF97FF",
           "#FECB52"
          ],
          "font": {
           "color": "#2a3f5f"
          },
          "geo": {
           "bgcolor": "white",
           "lakecolor": "white",
           "landcolor": "#E5ECF6",
           "showlakes": true,
           "showland": true,
           "subunitcolor": "white"
          },
          "hoverlabel": {
           "align": "left"
          },
          "hovermode": "closest",
          "mapbox": {
           "style": "light"
          },
          "paper_bgcolor": "white",
          "plot_bgcolor": "#E5ECF6",
          "polar": {
           "angularaxis": {
            "gridcolor": "white",
            "linecolor": "white",
            "ticks": ""
           },
           "bgcolor": "#E5ECF6",
           "radialaxis": {
            "gridcolor": "white",
            "linecolor": "white",
            "ticks": ""
           }
          },
          "scene": {
           "xaxis": {
            "backgroundcolor": "#E5ECF6",
            "gridcolor": "white",
            "gridwidth": 2,
            "linecolor": "white",
            "showbackground": true,
            "ticks": "",
            "zerolinecolor": "white"
           },
           "yaxis": {
            "backgroundcolor": "#E5ECF6",
            "gridcolor": "white",
            "gridwidth": 2,
            "linecolor": "white",
            "showbackground": true,
            "ticks": "",
            "zerolinecolor": "white"
           },
           "zaxis": {
            "backgroundcolor": "#E5ECF6",
            "gridcolor": "white",
            "gridwidth": 2,
            "linecolor": "white",
            "showbackground": true,
            "ticks": "",
            "zerolinecolor": "white"
           }
          },
          "shapedefaults": {
           "line": {
            "color": "#2a3f5f"
           }
          },
          "ternary": {
           "aaxis": {
            "gridcolor": "white",
            "linecolor": "white",
            "ticks": ""
           },
           "baxis": {
            "gridcolor": "white",
            "linecolor": "white",
            "ticks": ""
           },
           "bgcolor": "#E5ECF6",
           "caxis": {
            "gridcolor": "white",
            "linecolor": "white",
            "ticks": ""
           }
          },
          "title": {
           "x": 0.05
          },
          "xaxis": {
           "automargin": true,
           "gridcolor": "white",
           "linecolor": "white",
           "ticks": "",
           "title": {
            "standoff": 15
           },
           "zerolinecolor": "white",
           "zerolinewidth": 2
          },
          "yaxis": {
           "automargin": true,
           "gridcolor": "white",
           "linecolor": "white",
           "ticks": "",
           "title": {
            "standoff": 15
           },
           "zerolinecolor": "white",
           "zerolinewidth": 2
          }
         }
        }
       }
      }
     },
     "metadata": {},
     "output_type": "display_data"
    }
   ],
   "source": [
    "fig = go.Figure()\n",
    "\n",
    "fig.add_trace(go.Box(y=df[\"p1_rozamiento\"][df[\"concepto_p1\"] != 'NE'],\n",
    "                     name=\"Rozamiento\",\n",
    "                     boxpoints=\"all\",\n",
    "                     notched=True))\n",
    "fig.add_trace(go.Box(y=df[\"p1_oscilaciones\"][df[\"concepto_p1\"] != 'NE'],\n",
    "                     name=\"Oscilaciones\",\n",
    "                     boxpoints=\"all\",\n",
    "                     notched=True))\n",
    "fig.add_trace(go.Box(y=df[\"p1_sni\"][df[\"concepto_p1\"] != 'NE'],\n",
    "                     name=\"SNI\",\n",
    "                     boxpoints=\"all\",\n",
    "                     notched=True))\n",
    "\n",
    "fig.show()"
   ]
  }
 ],
 "metadata": {
  "kernelspec": {
   "display_name": "auriga",
   "language": "python",
   "name": "python3"
  },
  "language_info": {
   "codemirror_mode": {
    "name": "ipython",
    "version": 3
   },
   "file_extension": ".py",
   "mimetype": "text/x-python",
   "name": "python",
   "nbconvert_exporter": "python",
   "pygments_lexer": "ipython3",
   "version": "3.10.7"
  },
  "orig_nbformat": 4
 },
 "nbformat": 4,
 "nbformat_minor": 2
}
